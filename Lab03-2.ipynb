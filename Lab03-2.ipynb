{
 "cells": [
  {
   "cell_type": "code",
   "execution_count": 11,
   "metadata": {},
   "outputs": [],
   "source": [
    "import random\n",
    "import math\n",
    "import matplotlib.pyplot as plt\n",
    "import numpy as np"
   ]
  },
  {
   "cell_type": "code",
   "execution_count": 12,
   "metadata": {},
   "outputs": [
    {
     "data": {
      "text/plain": [
       "3.141592653589793"
      ]
     },
     "execution_count": 12,
     "metadata": {},
     "output_type": "execute_result"
    }
   ],
   "source": [
    "pi = math.pi\n",
    "pi"
   ]
  },
  {
   "cell_type": "code",
   "execution_count": 13,
   "metadata": {},
   "outputs": [],
   "source": [
    "#Exercise 3-2-1\n",
    "def piguess(converge, draw):\n",
    "    n = 0 # number of points falling in the unit circle\n",
    "    d = 0 # number of points falling in the unit square\n",
    "\n",
    "    while d <= draw:\n",
    "        x = random.random()\n",
    "        y = random.random()\n",
    "        if x**2 + y**2 <= 1.0:\n",
    "            n += 1\n",
    "        d += 1\n",
    "        ratio = 4 * n * 1./d\n",
    "        print(ratio)\n",
    "    \n",
    "        if abs(ratio-pi) / pi <= converge:\n",
    "            print(\"Draws needed: \", d)\n",
    "            break\n",
    "\n",
    "    else:\n",
    "        print(\"Draws exceeded limit of:\", d)\n",
    "        print(\"The difference between the predicted and actual value of pi is\", abs(ratio - pi) / pi * 100, \"%.\")"
   ]
  },
  {
   "cell_type": "code",
   "execution_count": 14,
   "metadata": {},
   "outputs": [
    {
     "name": "stdout",
     "output_type": "stream",
     "text": [
      "4.0\n",
      "4.0\n",
      "4.0\n",
      "3.0\n",
      "3.2\n",
      "3.3333333333333335\n",
      "3.4285714285714284\n",
      "3.5\n",
      "3.5555555555555554\n",
      "3.6\n",
      "3.6363636363636362\n",
      "3.6666666666666665\n",
      "3.6923076923076925\n",
      "3.7142857142857144\n",
      "3.466666666666667\n",
      "3.5\n",
      "3.5294117647058822\n",
      "3.5555555555555554\n",
      "3.5789473684210527\n",
      "3.6\n",
      "Draws exceeded limit of: 20\n",
      "The difference between the predicted and actual value of pi is 14.59155902616465 %.\n"
     ]
    }
   ],
   "source": [
    "piguess(0.0001, 19)"
   ]
  },
  {
   "cell_type": "code",
   "execution_count": 44,
   "metadata": {},
   "outputs": [],
   "source": [
    "#Exercise 3-2-2\n",
    "\n",
    "mean = np.mean\n",
    "std = np.std\n",
    "\n",
    "def picalc(converge):\n",
    "    n = 0 # number of points falling in the unit circle\n",
    "    d = 0 # number of points falling in the unit square\n",
    "    i = 0\n",
    "    ratios = []\n",
    "    draws = []\n",
    "\n",
    "    while i < 10:\n",
    "        simulating = True\n",
    "        while simulating:\n",
    "            x = random.random()\n",
    "            y = random.random()\n",
    "            if x**2 + y**2 <= 1.0:\n",
    "                n += 1\n",
    "            d += 1\n",
    "            ratio = 4 * n * 1./d\n",
    "    \n",
    "            if abs(ratio-pi) / pi <= converge:\n",
    "                ratios.append(ratio)\n",
    "                draws.append(d)\n",
    "                break\n",
    "            \n",
    "        i = i + 1\n",
    "    \n",
    "    print(\"The average value of pi for a convergence criterion of\", str(converge), \"is\", mean(ratios))\n",
    "    print(\"The average number of draws for a convergence criterion of\", str(converge), \"is\", mean(draws))\n",
    "    print(\"The standard deviation of the number of draws is\", std(draws))"
   ]
  },
  {
   "cell_type": "code",
   "execution_count": 50,
   "metadata": {},
   "outputs": [
    {
     "name": "stdout",
     "output_type": "stream",
     "text": [
      "The average value of pi for a convergence criterion of 0.01 is 3.11683805952939\n",
      "The average number of draws for a convergence criterion of 0.01 is 723.2\n",
      "The standard deviation of the number of draws is 346.7609551261503\n"
     ]
    }
   ],
   "source": [
    "picalc(0.01)"
   ]
  },
  {
   "cell_type": "code",
   "execution_count": 47,
   "metadata": {},
   "outputs": [
    {
     "name": "stdout",
     "output_type": "stream",
     "text": [
      "The average value of pi for a convergence criterion of 0.001 is 3.1421203102748794\n",
      "The average number of draws for a convergence criterion of 0.001 is 249.9\n",
      "The standard deviation of the number of draws is 61.725926481503706\n"
     ]
    }
   ],
   "source": [
    "picalc(0.001)"
   ]
  },
  {
   "cell_type": "code",
   "execution_count": 48,
   "metadata": {},
   "outputs": [
    {
     "name": "stdout",
     "output_type": "stream",
     "text": [
      "The average value of pi for a convergence criterion of 0.0001 is 3.1418885114715147\n",
      "The average number of draws for a convergence criterion of 0.0001 is 180018.1\n",
      "The standard deviation of the number of draws is 38.074794812316455\n"
     ]
    }
   ],
   "source": [
    "picalc(0.0001)"
   ]
  },
  {
   "cell_type": "code",
   "execution_count": 49,
   "metadata": {},
   "outputs": [
    {
     "name": "stdout",
     "output_type": "stream",
     "text": [
      "The average value of pi for a convergence criterion of 1e-05 is 3.141596764574916\n",
      "The average number of draws for a convergence criterion of 1e-05 is 71815.2\n",
      "The standard deviation of the number of draws is 3.6551333764994136\n"
     ]
    }
   ],
   "source": [
    "picalc(0.00001)"
   ]
  },
  {
   "cell_type": "code",
   "execution_count": null,
   "metadata": {},
   "outputs": [],
   "source": []
  }
 ],
 "metadata": {
  "kernelspec": {
   "display_name": "Python 3",
   "language": "python",
   "name": "python3"
  },
  "language_info": {
   "codemirror_mode": {
    "name": "ipython",
    "version": 3
   },
   "file_extension": ".py",
   "mimetype": "text/x-python",
   "name": "python",
   "nbconvert_exporter": "python",
   "pygments_lexer": "ipython3",
   "version": "3.8.5"
  }
 },
 "nbformat": 4,
 "nbformat_minor": 4
}
